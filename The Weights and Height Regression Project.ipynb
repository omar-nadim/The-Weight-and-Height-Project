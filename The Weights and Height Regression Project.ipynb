{
 "cells": [
  {
   "cell_type": "markdown",
   "metadata": {},
   "source": [
    "# The Weights and Height Regression Project"
   ]
  },
  {
   "cell_type": "markdown",
   "metadata": {},
   "source": [
    "And in this second part of the project I'm going to use the same data to solve a regression\n",
    "problem and to predict the weight based on gender and height"
   ]
  },
  {
   "cell_type": "markdown",
   "metadata": {},
   "source": [
    "Let's first import all the needed libraries"
   ]
  },
  {
   "cell_type": "code",
   "execution_count": 1,
   "metadata": {},
   "outputs": [],
   "source": [
    "from matplotlib import pyplot\n",
    "\n",
    "import numpy\n",
    "from pandas import read_csv,get_dummies, set_option\n",
    "from sklearn.preprocessing import LabelEncoder\n",
    "from sklearn.model_selection import train_test_split, KFold, cross_val_score\n",
    "from sklearn.model_selection import GridSearchCV\n",
    "from sklearn.pipeline import Pipeline\n",
    "from sklearn.preprocessing import StandardScaler\n",
    "from sklearn.metrics import mean_squared_error, r2_score\n",
    "\n",
    "\"\"\"Regression Algorithms\"\"\"\n",
    "\n",
    "from sklearn.linear_model import LinearRegression\n",
    "from sklearn.linear_model import Lasso\n",
    "from sklearn.linear_model import ElasticNet\n",
    "from sklearn.tree import DecisionTreeRegressor\n",
    "from sklearn.neighbors import KNeighborsRegressor\n",
    "from sklearn.svm import SVR"
   ]
  },
  {
   "cell_type": "code",
   "execution_count": 2,
   "metadata": {},
   "outputs": [],
   "source": [
    "filename = 'weight-height.csv'\n",
    "Dataset = read_csv(filename)"
   ]
  },
  {
   "cell_type": "markdown",
   "metadata": {},
   "source": [
    "The Gender feature needs to be encoded, let's apply the lable encoder"
   ]
  },
  {
   "cell_type": "code",
   "execution_count": 3,
   "metadata": {},
   "outputs": [],
   "source": [
    "# Let's Encode the Gender data:\n",
    "\n",
    "encoder = LabelEncoder()\n",
    "Dataset.Gender = encoder.fit_transform(Dataset.Gender)\n",
    "\n",
    "array = Dataset.values\n",
    "X = array[:,:-1]\n",
    "Y = array[:,-1]"
   ]
  },
  {
   "cell_type": "markdown",
   "metadata": {},
   "source": [
    "## The machine learning part"
   ]
  },
  {
   "cell_type": "code",
   "execution_count": 4,
   "metadata": {},
   "outputs": [],
   "source": [
    "validation_size = 0.2\n",
    "seed = 7\n",
    "n_folds = 10\n",
    "scoring = 'neg_mean_squared_error'\n",
    "\n",
    "X_train, X_validation, Y_train, Y_validation = train_test_split(X, Y,\n",
    "        test_size=validation_size, random_state=seed)"
   ]
  },
  {
   "cell_type": "code",
   "execution_count": 5,
   "metadata": {},
   "outputs": [
    {
     "name": "stdout",
     "output_type": "stream",
     "text": [
      "LR: -99.59864464664562, 5.169689458450589\n",
      "LASSO: -106.06155775373921, 6.00807679425553\n",
      "EN: -132.39396582957892, 7.953290603226527\n",
      "KNN: -120.18831116719147, 7.12724022934497\n",
      "CART: -200.04302637382483, 7.92584387774294\n",
      "SVR: -115.8841658789775, 8.506809479938362\n"
     ]
    }
   ],
   "source": [
    "# prepare models\n",
    "models = []\n",
    "models.append(('LR', LinearRegression()))\n",
    "models.append(('LASSO', Lasso()))\n",
    "models.append(('EN', ElasticNet()))\n",
    "models.append(('KNN', KNeighborsRegressor()))\n",
    "models.append(('CART', DecisionTreeRegressor()))\n",
    "models.append(('SVR', SVR(gamma='auto')))\n",
    "\n",
    "# Evaluate each model in turn\n",
    "\n",
    "results = []\n",
    "names = []\n",
    "for name,model in models:\n",
    "    kfold = KFold(n_splits = n_folds, random_state = seed)\n",
    "    cv_results = cross_val_score(model, X_train, Y_train, cv=kfold, scoring=scoring)\n",
    "    results.append(cv_results)\n",
    "    names.append(name)\n",
    "    print(f'{name}: {cv_results.mean()}, {cv_results.std()}')    "
   ]
  },
  {
   "cell_type": "markdown",
   "metadata": {},
   "source": [
    "Looks like the Linear regression is the best performing algorithm, But I'm going \n",
    "to try to tune the Lasso Algorithm just to make sure of it's maximal performance"
   ]
  },
  {
   "cell_type": "code",
   "execution_count": 6,
   "metadata": {},
   "outputs": [
    {
     "name": "stdout",
     "output_type": "stream",
     "text": [
      "Best: -99.66352255776815 using {'alpha': 0.1}\n",
      "-99.66352255776815 (5.208276111732531) with: {'alpha': 0.1}\n",
      "-100.18081765615591 (5.317747092665417) with: {'alpha': 0.3}\n",
      "-101.214828431896 (5.468405617195191) with: {'alpha': 0.5}\n",
      "-102.7655548849884 (5.657736314159434) with: {'alpha': 0.7}\n",
      "-104.83351589710358 (5.882979414563681) with: {'alpha': 0.9}\n",
      "-106.06155775373918 (6.00807679425553) with: {'alpha': 1.0}\n",
      "-110.51960757910737 (6.430416534616414) with: {'alpha': 1.3}\n",
      "-114.13747021460814 (6.747422882571577) with: {'alpha': 1.5}\n",
      "-118.27230635373597 (7.090345835854821) with: {'alpha': 1.7}\n",
      "-125.44322979889597 (7.649535416840401) with: {'alpha': 2.0}\n"
     ]
    }
   ],
   "source": [
    "## Lasso Algorithm tuning\n",
    "alpha_values = numpy.array([0.1,0.3,0.5,0.7,0.9,1.0,1.3,1.5,1.7,2.0])\n",
    "param_grid = dict(alpha=alpha_values)\n",
    "model = Lasso()\n",
    "kfold = KFold(n_splits=n_folds, random_state=seed)\n",
    "grid = GridSearchCV(estimator=model, param_grid=param_grid, scoring=scoring, cv=kfold)\n",
    "grid_result = grid.fit(X_train, Y_train)\n",
    "print(f\"Best: {grid_result.best_score_} using {grid_result.best_params_}\")\n",
    "means = grid_result.cv_results_['mean_test_score']\n",
    "stds = grid_result.cv_results_['std_test_score']\n",
    "params = grid_result.cv_results_['params']\n",
    "for mean, stdev, param in zip(means, stds, params):\n",
    "    print(f\"{mean} ({stdev}) with: {param}\")\n"
   ]
  },
  {
   "cell_type": "markdown",
   "metadata": {},
   "source": [
    "Close, but the linear regression is still the best performing algorithm"
   ]
  },
  {
   "cell_type": "markdown",
   "metadata": {},
   "source": [
    "## Prediction Time"
   ]
  },
  {
   "cell_type": "code",
   "execution_count": 7,
   "metadata": {},
   "outputs": [
    {
     "name": "stdout",
     "output_type": "stream",
     "text": [
      "0.8974414869124636\n"
     ]
    }
   ],
   "source": [
    "# prepare the model\n",
    "model = LinearRegression()\n",
    "model.fit(X_train, Y_train)\n",
    "\n",
    "# transform the validation dataset\n",
    "\n",
    "predictions = model.predict(X_validation)\n",
    "print(r2_score(Y_validation, predictions))"
   ]
  },
  {
   "cell_type": "code",
   "execution_count": null,
   "metadata": {},
   "outputs": [],
   "source": []
  }
 ],
 "metadata": {
  "kernelspec": {
   "display_name": "Python 3",
   "language": "python",
   "name": "python3"
  },
  "language_info": {
   "codemirror_mode": {
    "name": "ipython",
    "version": 3
   },
   "file_extension": ".py",
   "mimetype": "text/x-python",
   "name": "python",
   "nbconvert_exporter": "python",
   "pygments_lexer": "ipython3",
   "version": "3.7.3"
  }
 },
 "nbformat": 4,
 "nbformat_minor": 2
}
