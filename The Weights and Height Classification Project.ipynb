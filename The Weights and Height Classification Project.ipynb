{
 "cells": [
  {
   "cell_type": "markdown",
   "metadata": {},
   "source": [
    "# The Weight And Height Classification Project"
   ]
  },
  {
   "cell_type": "markdown",
   "metadata": {},
   "source": [
    "In this notebook I'm going to solve a classification problem to predict the gender based\n",
    "on the weight and height.\n",
    "\n",
    "And in the second part in a different notebook of the project I'm going to use the same data to solve a regression\n",
    "problem and to predict the weight based on gender and height"
   ]
  },
  {
   "cell_type": "code",
   "execution_count": 1,
   "metadata": {},
   "outputs": [],
   "source": [
    "from pandas import read_csv, set_option"
   ]
  },
  {
   "cell_type": "code",
   "execution_count": 2,
   "metadata": {},
   "outputs": [],
   "source": [
    "filename = 'weight-height.csv'\n",
    "Dataset = read_csv(filename)"
   ]
  },
  {
   "cell_type": "markdown",
   "metadata": {},
   "source": [
    "Let's check if there is any missing data"
   ]
  },
  {
   "cell_type": "code",
   "execution_count": 3,
   "metadata": {},
   "outputs": [
    {
     "name": "stdout",
     "output_type": "stream",
     "text": [
      "Gender    0\n",
      "Height    0\n",
      "Weight    0\n",
      "dtype: int64\n"
     ]
    }
   ],
   "source": [
    "Missing_Values_Table = Dataset.isnull().sum()\n",
    "print(Missing_Values_Table)"
   ]
  },
  {
   "cell_type": "markdown",
   "metadata": {},
   "source": [
    "As we can see there are no missing values"
   ]
  },
  {
   "cell_type": "code",
   "execution_count": 4,
   "metadata": {},
   "outputs": [
    {
     "name": "stdout",
     "output_type": "stream",
     "text": [
      "The first 20 datapoints are:\n",
      "   Gender     Height      Weight\n",
      "0    Male  73.847017  241.893563\n",
      "1    Male  68.781904  162.310473\n",
      "2    Male  74.110105  212.740856\n",
      "3    Male  71.730978  220.042470\n",
      "4    Male  69.881796  206.349801\n",
      "5    Male  67.253016  152.212156\n",
      "6    Male  68.785081  183.927889\n",
      "7    Male  68.348516  167.971110\n",
      "8    Male  67.018950  175.929440\n",
      "9    Male  63.456494  156.399676\n",
      "10   Male  71.195382  186.604926\n",
      "11   Male  71.640805  213.741169\n",
      "12   Male  64.766329  167.127461\n",
      "13   Male  69.283070  189.446181\n",
      "14   Male  69.243732  186.434168\n",
      "15   Male  67.645620  172.186930\n",
      "16   Male  72.418317  196.028506\n",
      "17   Male  63.974326  172.883470\n",
      "18   Male  69.640060  185.983958\n",
      "19   Male  67.936005  182.426648\n",
      "\n",
      "\n"
     ]
    }
   ],
   "source": [
    "# Let's look at some statistics\n",
    "peek = Dataset.head(20)\n",
    "shape = Dataset.shape\n",
    "types = Dataset.dtypes\n",
    "\n",
    "print(\"The first 20 datapoints are:\")\n",
    "print(peek)\n",
    "print(\"\\n\")"
   ]
  },
  {
   "cell_type": "code",
   "execution_count": 5,
   "metadata": {},
   "outputs": [
    {
     "name": "stdout",
     "output_type": "stream",
     "text": [
      "The dimensions of the Dataset is : (10000, 3)\n",
      "The types of the data is:\n",
      "Gender     object\n",
      "Height    float64\n",
      "Weight    float64\n",
      "dtype: object\n"
     ]
    }
   ],
   "source": [
    "print(f\"The dimensions of the Dataset is : {shape}\")\n",
    "    \n",
    "print(\"The types of the data is:\")\n",
    "print(types)\n"
   ]
  },
  {
   "cell_type": "markdown",
   "metadata": {},
   "source": [
    "Here we can see the descriptive statistics of the data:"
   ]
  },
  {
   "cell_type": "code",
   "execution_count": 6,
   "metadata": {},
   "outputs": [
    {
     "name": "stdout",
     "output_type": "stream",
     "text": [
      "          Height     Weight\n",
      "count  10000.000  10000.000\n",
      "mean      66.368    161.440\n",
      "std        3.848     32.108\n",
      "min       54.263     64.700\n",
      "25%       63.506    135.818\n",
      "50%       66.318    161.213\n",
      "75%       69.174    187.170\n",
      "max       78.999    269.990\n"
     ]
    }
   ],
   "source": [
    "#Descriptive Statistics\n",
    "set_option('display.width',100)\n",
    "set_option('precision',3)\n",
    "description = Dataset.describe()\n",
    "\n",
    "print(description)"
   ]
  },
  {
   "cell_type": "markdown",
   "metadata": {},
   "source": [
    "Let's look at the class distribution is:"
   ]
  },
  {
   "cell_type": "code",
   "execution_count": 7,
   "metadata": {},
   "outputs": [
    {
     "name": "stdout",
     "output_type": "stream",
     "text": [
      "Gender\n",
      "Female    5000\n",
      "Male      5000\n",
      "dtype: int64\n"
     ]
    }
   ],
   "source": [
    "class_counts = Dataset.groupby('Gender').size()      \n",
    "print(class_counts)"
   ]
  },
  {
   "cell_type": "markdown",
   "metadata": {},
   "source": [
    "The correlations between the attributes pairwise is:"
   ]
  },
  {
   "cell_type": "code",
   "execution_count": 8,
   "metadata": {},
   "outputs": [
    {
     "name": "stdout",
     "output_type": "stream",
     "text": [
      "        Height  Weight\n",
      "Height   1.000   0.925\n",
      "Weight   0.925   1.000\n"
     ]
    }
   ],
   "source": [
    "# Pairwise Pearson correlations\n",
    "correlations = Dataset.corr(method='pearson')\n",
    "print(correlations)"
   ]
  },
  {
   "cell_type": "markdown",
   "metadata": {},
   "source": [
    "Let's Visualize the data, The Histogramme of the data is:"
   ]
  },
  {
   "cell_type": "code",
   "execution_count": 9,
   "metadata": {},
   "outputs": [
    {
     "data": {
      "text/plain": [
       "array([[<matplotlib.axes._subplots.AxesSubplot object at 0x0000000008DE0940>,\n",
       "        <matplotlib.axes._subplots.AxesSubplot object at 0x0000000009A16668>]],\n",
       "      dtype=object)"
      ]
     },
     "execution_count": 9,
     "metadata": {},
     "output_type": "execute_result"
    }
   ],
   "source": [
    "from matplotlib import pyplot\n",
    "\n",
    "#histogrammes\n",
    "Dataset.hist()"
   ]
  },
  {
   "cell_type": "markdown",
   "metadata": {},
   "source": [
    "We can see some nice Gaussian distributions"
   ]
  },
  {
   "cell_type": "markdown",
   "metadata": {},
   "source": [
    "Let's plot the data to see how it looks like: "
   ]
  },
  {
   "cell_type": "code",
   "execution_count": 10,
   "metadata": {},
   "outputs": [
    {
     "data": {
      "image/png": "[encoded data removed]",
      "text/plain": [
       "<Figure size 432x288 with 1 Axes>"
      ]
     },
     "metadata": {
      "needs_background": "light"
     },
     "output_type": "display_data"
    }
   ],
   "source": [
    "#Scatter plots\n",
    "array = Dataset.values\n",
    "X = array[:,1:]\n",
    "Y = array[:,0]\n",
    "\n",
    "for i in range(len(Y)):\n",
    "    if Y[i] == 'Male':\n",
    "        pyplot.scatter(X[i][0],X[i][1],color = 'blue', marker = '+')\n",
    "    else:\n",
    "        pyplot.scatter(X[i][0],X[i][1],color = 'red', marker = '+')\n",
    "    \n",
    "pyplot.show()"
   ]
  },
  {
   "cell_type": "markdown",
   "metadata": {},
   "source": [
    "## The machine learning part"
   ]
  },
  {
   "cell_type": "code",
   "execution_count": 11,
   "metadata": {},
   "outputs": [],
   "source": [
    "from sklearn.model_selection import train_test_split\n",
    "\n",
    "validation_size = 0.2\n",
    "seed = 7\n",
    "\n",
    "X_train, X_validation, Y_train, Y_validation = train_test_split(X, Y,\n",
    "        test_size=validation_size, random_state=seed)"
   ]
  },
  {
   "cell_type": "code",
   "execution_count": 12,
   "metadata": {},
   "outputs": [],
   "source": [
    "\"\"\"Importing the Classification Algorithms\"\"\"\n",
    "\n",
    "from sklearn.linear_model import LogisticRegression\n",
    "from sklearn.tree import DecisionTreeClassifier\n",
    "from sklearn.neighbors import KNeighborsClassifier\n",
    "from sklearn.naive_bayes import GaussianNB\n",
    "from sklearn.svm import SVC"
   ]
  },
  {
   "cell_type": "markdown",
   "metadata": {},
   "source": [
    "Let's define the list of classification algorithms"
   ]
  },
  {
   "cell_type": "code",
   "execution_count": 13,
   "metadata": {},
   "outputs": [],
   "source": [
    "models = []\n",
    "models.append(('LR', LogisticRegression(solver = 'liblinear')))\n",
    "models.append(('KNN', KNeighborsClassifier()))\n",
    "models.append(('CART', DecisionTreeClassifier()))\n",
    "models.append(('NB', GaussianNB()))\n",
    "models.append(('SVM', SVC(gamma = 'auto')))"
   ]
  },
  {
   "cell_type": "code",
   "execution_count": 14,
   "metadata": {},
   "outputs": [
    {
     "name": "stdout",
     "output_type": "stream",
     "text": [
      "LR: 0.92075, 0.008085480814398112\n",
      "KNN: 0.91175, 0.006204836822995415\n",
      "CART: 0.875875, 0.011125000000000001\n",
      "NB: 0.888875, 0.013514459848621405\n",
      "SVM: 0.9200000000000002, 0.007582875444051561\n"
     ]
    }
   ],
   "source": [
    "from sklearn.model_selection import KFold, cross_val_score\n",
    "\n",
    "results = []\n",
    "names = []\n",
    "n_folds = 10\n",
    "scoring = 'accuracy'\n",
    "for name,model in models:\n",
    "    kfold = KFold(n_splits = n_folds, random_state = seed)\n",
    "    cv_results = cross_val_score(model, X_train, Y_train, cv=kfold, scoring=scoring)\n",
    "    results.append(cv_results)\n",
    "    names.append(name)\n",
    "    print(f'{name}: {cv_results.mean()}, {cv_results.std()}')"
   ]
  },
  {
   "cell_type": "markdown",
   "metadata": {},
   "source": [
    "Let's apply some tuning to the best performing algorithm"
   ]
  },
  {
   "cell_type": "code",
   "execution_count": 15,
   "metadata": {},
   "outputs": [
    {
     "name": "stdout",
     "output_type": "stream",
     "text": [
      "Best: 0.92075 using {'C': 0.1}\n",
      "0.92075 (0.008085480814398112) with: {'C': 0.1}\n",
      "0.92075 (0.008085480814398112) with: {'C': 0.3}\n",
      "0.92075 (0.008085480814398112) with: {'C': 0.5}\n",
      "0.92075 (0.008085480814398112) with: {'C': 0.7}\n",
      "0.92075 (0.008085480814398112) with: {'C': 0.9}\n",
      "0.92075 (0.008085480814398112) with: {'C': 1.0}\n",
      "0.92075 (0.008085480814398112) with: {'C': 1.3}\n",
      "0.92075 (0.008085480814398112) with: {'C': 1.5}\n",
      "0.92075 (0.008085480814398112) with: {'C': 1.7}\n",
      "0.92075 (0.008085480814398112) with: {'C': 2.0}\n"
     ]
    }
   ],
   "source": [
    "# Logistic regression Algorithm tuning\n",
    "import numpy\n",
    "from sklearn.model_selection import GridSearchCV\n",
    "\n",
    "C_values = numpy.array([0.1,0.3,0.5,0.7,0.9,1.0,1.3,1.5,1.7,2.0])\n",
    "param_grid = dict(C=C_values)\n",
    "model = LogisticRegression(solver = 'liblinear')\n",
    "kfold = KFold(n_splits=10, random_state=7)\n",
    "grid = GridSearchCV(estimator=model, param_grid=param_grid, scoring='accuracy', cv=kfold)\n",
    "grid_result = grid.fit(X_train, Y_train)\n",
    "print(f\"Best: {grid_result.best_score_} using {grid_result.best_params_}\")\n",
    "means = grid_result.cv_results_['mean_test_score']\n",
    "stds = grid_result.cv_results_['std_test_score']\n",
    "params = grid_result.cv_results_['params']\n",
    "for mean, stdev, param in zip(means, stds, params):\n",
    "    print(f\"{mean} ({stdev}) with: {param}\")"
   ]
  },
  {
   "cell_type": "markdown",
   "metadata": {},
   "source": [
    "## Prediction Time"
   ]
  },
  {
   "cell_type": "code",
   "execution_count": 16,
   "metadata": {},
   "outputs": [
    {
     "name": "stdout",
     "output_type": "stream",
     "text": [
      "0.9135\n",
      "[[906  90]\n",
      " [ 83 921]]\n",
      "              precision    recall  f1-score   support\n",
      "\n",
      "      Female       0.92      0.91      0.91       996\n",
      "        Male       0.91      0.92      0.91      1004\n",
      "\n",
      "   micro avg       0.91      0.91      0.91      2000\n",
      "   macro avg       0.91      0.91      0.91      2000\n",
      "weighted avg       0.91      0.91      0.91      2000\n",
      "\n"
     ]
    }
   ],
   "source": [
    "from sklearn.metrics import classification_report\n",
    "from sklearn.metrics import confusion_matrix\n",
    "from sklearn.metrics import accuracy_score\n",
    "\n",
    "# prepare the model\n",
    "model = LogisticRegression(solver = 'liblinear')\n",
    "model.fit(X_train, Y_train)\n",
    "\n",
    "# estimate accuracy on validation dataset\n",
    "predictions = model.predict(X_validation)\n",
    "print(accuracy_score(Y_validation, predictions))\n",
    "print(confusion_matrix(Y_validation, predictions))\n",
    "print(classification_report(Y_validation, predictions))"
   ]
  },
  {
   "cell_type": "code",
   "execution_count": null,
   "metadata": {},
   "outputs": [],
   "source": []
  }
 ],
 "metadata": {
  "kernelspec": {
   "display_name": "Python 3",
   "language": "python",
   "name": "python3"
  },
  "language_info": {
   "codemirror_mode": {
    "name": "ipython",
    "version": 3
   },
   "file_extension": ".py",
   "mimetype": "text/x-python",
   "name": "python",
   "nbconvert_exporter": "python",
   "pygments_lexer": "ipython3",
   "version": "3.7.0"
  }
 },
 "nbformat": 4,
 "nbformat_minor": 2
}
